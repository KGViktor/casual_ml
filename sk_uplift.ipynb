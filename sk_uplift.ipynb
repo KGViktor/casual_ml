{
  "nbformat": 4,
  "nbformat_minor": 0,
  "metadata": {
    "colab": {
      "provenance": []
    },
    "kernelspec": {
      "name": "python3",
      "display_name": "Python 3"
    },
    "language_info": {
      "name": "python"
    },
    "widgets": {
      "application/vnd.jupyter.widget-state+json": {
        "0999b87d8f2344f58e6e6d8ea9cb4360": {
          "model_module": "@jupyter-widgets/controls",
          "model_name": "HBoxModel",
          "model_module_version": "1.5.0",
          "state": {
            "_dom_classes": [],
            "_model_module": "@jupyter-widgets/controls",
            "_model_module_version": "1.5.0",
            "_model_name": "HBoxModel",
            "_view_count": null,
            "_view_module": "@jupyter-widgets/controls",
            "_view_module_version": "1.5.0",
            "_view_name": "HBoxView",
            "box_style": "",
            "children": [
              "IPY_MODEL_20890b97820944739b33a95966883c2d",
              "IPY_MODEL_061c3883401444028dc4a8ee029900dd",
              "IPY_MODEL_b3e84f6dd86144e88efa99e2396589ad"
            ],
            "layout": "IPY_MODEL_6280e910a1ef4c3abd1b119b638b3d06"
          }
        },
        "20890b97820944739b33a95966883c2d": {
          "model_module": "@jupyter-widgets/controls",
          "model_name": "HTMLModel",
          "model_module_version": "1.5.0",
          "state": {
            "_dom_classes": [],
            "_model_module": "@jupyter-widgets/controls",
            "_model_module_version": "1.5.0",
            "_model_name": "HTMLModel",
            "_view_count": null,
            "_view_module": "@jupyter-widgets/controls",
            "_view_module_version": "1.5.0",
            "_view_name": "HTMLView",
            "description": "",
            "description_tooltip": null,
            "layout": "IPY_MODEL_4994e65e6d8741b09576d22a613cc4fb",
            "placeholder": "​",
            "style": "IPY_MODEL_917a714208844be5beaf2414e910ba66",
            "value": "Megafon dataset: 100%"
          }
        },
        "061c3883401444028dc4a8ee029900dd": {
          "model_module": "@jupyter-widgets/controls",
          "model_name": "FloatProgressModel",
          "model_module_version": "1.5.0",
          "state": {
            "_dom_classes": [],
            "_model_module": "@jupyter-widgets/controls",
            "_model_module_version": "1.5.0",
            "_model_name": "FloatProgressModel",
            "_view_count": null,
            "_view_module": "@jupyter-widgets/controls",
            "_view_module_version": "1.5.0",
            "_view_name": "ProgressView",
            "bar_style": "success",
            "description": "",
            "description_tooltip": null,
            "layout": "IPY_MODEL_77a76300204c4cd0818121698105d0cd",
            "max": 275944146,
            "min": 0,
            "orientation": "horizontal",
            "style": "IPY_MODEL_9fe5966f9db148899d83f24dc8b9b349",
            "value": 275944146
          }
        },
        "b3e84f6dd86144e88efa99e2396589ad": {
          "model_module": "@jupyter-widgets/controls",
          "model_name": "HTMLModel",
          "model_module_version": "1.5.0",
          "state": {
            "_dom_classes": [],
            "_model_module": "@jupyter-widgets/controls",
            "_model_module_version": "1.5.0",
            "_model_name": "HTMLModel",
            "_view_count": null,
            "_view_module": "@jupyter-widgets/controls",
            "_view_module_version": "1.5.0",
            "_view_name": "HTMLView",
            "description": "",
            "description_tooltip": null,
            "layout": "IPY_MODEL_c4a98445769146a49a3f82caa167fd0f",
            "placeholder": "​",
            "style": "IPY_MODEL_e614acb008bd4ec2bd77859c0ba05800",
            "value": " 276M/276M [00:10&lt;00:00, 33.8MiB/s]"
          }
        },
        "6280e910a1ef4c3abd1b119b638b3d06": {
          "model_module": "@jupyter-widgets/base",
          "model_name": "LayoutModel",
          "model_module_version": "1.2.0",
          "state": {
            "_model_module": "@jupyter-widgets/base",
            "_model_module_version": "1.2.0",
            "_model_name": "LayoutModel",
            "_view_count": null,
            "_view_module": "@jupyter-widgets/base",
            "_view_module_version": "1.2.0",
            "_view_name": "LayoutView",
            "align_content": null,
            "align_items": null,
            "align_self": null,
            "border": null,
            "bottom": null,
            "display": null,
            "flex": null,
            "flex_flow": null,
            "grid_area": null,
            "grid_auto_columns": null,
            "grid_auto_flow": null,
            "grid_auto_rows": null,
            "grid_column": null,
            "grid_gap": null,
            "grid_row": null,
            "grid_template_areas": null,
            "grid_template_columns": null,
            "grid_template_rows": null,
            "height": null,
            "justify_content": null,
            "justify_items": null,
            "left": null,
            "margin": null,
            "max_height": null,
            "max_width": null,
            "min_height": null,
            "min_width": null,
            "object_fit": null,
            "object_position": null,
            "order": null,
            "overflow": null,
            "overflow_x": null,
            "overflow_y": null,
            "padding": null,
            "right": null,
            "top": null,
            "visibility": null,
            "width": null
          }
        },
        "4994e65e6d8741b09576d22a613cc4fb": {
          "model_module": "@jupyter-widgets/base",
          "model_name": "LayoutModel",
          "model_module_version": "1.2.0",
          "state": {
            "_model_module": "@jupyter-widgets/base",
            "_model_module_version": "1.2.0",
            "_model_name": "LayoutModel",
            "_view_count": null,
            "_view_module": "@jupyter-widgets/base",
            "_view_module_version": "1.2.0",
            "_view_name": "LayoutView",
            "align_content": null,
            "align_items": null,
            "align_self": null,
            "border": null,
            "bottom": null,
            "display": null,
            "flex": null,
            "flex_flow": null,
            "grid_area": null,
            "grid_auto_columns": null,
            "grid_auto_flow": null,
            "grid_auto_rows": null,
            "grid_column": null,
            "grid_gap": null,
            "grid_row": null,
            "grid_template_areas": null,
            "grid_template_columns": null,
            "grid_template_rows": null,
            "height": null,
            "justify_content": null,
            "justify_items": null,
            "left": null,
            "margin": null,
            "max_height": null,
            "max_width": null,
            "min_height": null,
            "min_width": null,
            "object_fit": null,
            "object_position": null,
            "order": null,
            "overflow": null,
            "overflow_x": null,
            "overflow_y": null,
            "padding": null,
            "right": null,
            "top": null,
            "visibility": null,
            "width": null
          }
        },
        "917a714208844be5beaf2414e910ba66": {
          "model_module": "@jupyter-widgets/controls",
          "model_name": "DescriptionStyleModel",
          "model_module_version": "1.5.0",
          "state": {
            "_model_module": "@jupyter-widgets/controls",
            "_model_module_version": "1.5.0",
            "_model_name": "DescriptionStyleModel",
            "_view_count": null,
            "_view_module": "@jupyter-widgets/base",
            "_view_module_version": "1.2.0",
            "_view_name": "StyleView",
            "description_width": ""
          }
        },
        "77a76300204c4cd0818121698105d0cd": {
          "model_module": "@jupyter-widgets/base",
          "model_name": "LayoutModel",
          "model_module_version": "1.2.0",
          "state": {
            "_model_module": "@jupyter-widgets/base",
            "_model_module_version": "1.2.0",
            "_model_name": "LayoutModel",
            "_view_count": null,
            "_view_module": "@jupyter-widgets/base",
            "_view_module_version": "1.2.0",
            "_view_name": "LayoutView",
            "align_content": null,
            "align_items": null,
            "align_self": null,
            "border": null,
            "bottom": null,
            "display": null,
            "flex": null,
            "flex_flow": null,
            "grid_area": null,
            "grid_auto_columns": null,
            "grid_auto_flow": null,
            "grid_auto_rows": null,
            "grid_column": null,
            "grid_gap": null,
            "grid_row": null,
            "grid_template_areas": null,
            "grid_template_columns": null,
            "grid_template_rows": null,
            "height": null,
            "justify_content": null,
            "justify_items": null,
            "left": null,
            "margin": null,
            "max_height": null,
            "max_width": null,
            "min_height": null,
            "min_width": null,
            "object_fit": null,
            "object_position": null,
            "order": null,
            "overflow": null,
            "overflow_x": null,
            "overflow_y": null,
            "padding": null,
            "right": null,
            "top": null,
            "visibility": null,
            "width": null
          }
        },
        "9fe5966f9db148899d83f24dc8b9b349": {
          "model_module": "@jupyter-widgets/controls",
          "model_name": "ProgressStyleModel",
          "model_module_version": "1.5.0",
          "state": {
            "_model_module": "@jupyter-widgets/controls",
            "_model_module_version": "1.5.0",
            "_model_name": "ProgressStyleModel",
            "_view_count": null,
            "_view_module": "@jupyter-widgets/base",
            "_view_module_version": "1.2.0",
            "_view_name": "StyleView",
            "bar_color": null,
            "description_width": ""
          }
        },
        "c4a98445769146a49a3f82caa167fd0f": {
          "model_module": "@jupyter-widgets/base",
          "model_name": "LayoutModel",
          "model_module_version": "1.2.0",
          "state": {
            "_model_module": "@jupyter-widgets/base",
            "_model_module_version": "1.2.0",
            "_model_name": "LayoutModel",
            "_view_count": null,
            "_view_module": "@jupyter-widgets/base",
            "_view_module_version": "1.2.0",
            "_view_name": "LayoutView",
            "align_content": null,
            "align_items": null,
            "align_self": null,
            "border": null,
            "bottom": null,
            "display": null,
            "flex": null,
            "flex_flow": null,
            "grid_area": null,
            "grid_auto_columns": null,
            "grid_auto_flow": null,
            "grid_auto_rows": null,
            "grid_column": null,
            "grid_gap": null,
            "grid_row": null,
            "grid_template_areas": null,
            "grid_template_columns": null,
            "grid_template_rows": null,
            "height": null,
            "justify_content": null,
            "justify_items": null,
            "left": null,
            "margin": null,
            "max_height": null,
            "max_width": null,
            "min_height": null,
            "min_width": null,
            "object_fit": null,
            "object_position": null,
            "order": null,
            "overflow": null,
            "overflow_x": null,
            "overflow_y": null,
            "padding": null,
            "right": null,
            "top": null,
            "visibility": null,
            "width": null
          }
        },
        "e614acb008bd4ec2bd77859c0ba05800": {
          "model_module": "@jupyter-widgets/controls",
          "model_name": "DescriptionStyleModel",
          "model_module_version": "1.5.0",
          "state": {
            "_model_module": "@jupyter-widgets/controls",
            "_model_module_version": "1.5.0",
            "_model_name": "DescriptionStyleModel",
            "_view_count": null,
            "_view_module": "@jupyter-widgets/base",
            "_view_module_version": "1.2.0",
            "_view_name": "StyleView",
            "description_width": ""
          }
        }
      }
    }
  },
  "cells": [
    {
      "cell_type": "code",
      "execution_count": null,
      "metadata": {
        "id": "tdhiW8ogDw5W"
      },
      "outputs": [],
      "source": [
        "import pandas as pd\n",
        "from sklearn.model_selection import train_test_split\n",
        "import lightgbm as lgb\n",
        "\n",
        "random_state = 31"
      ]
    },
    {
      "cell_type": "code",
      "source": [
        "from sklift.datasets import fetch_megafon\n",
        "data, target, treatment = fetch_megafon(return_X_y_t=True)"
      ],
      "metadata": {
        "colab": {
          "base_uri": "https://localhost:8080/",
          "height": 49,
          "referenced_widgets": [
            "0999b87d8f2344f58e6e6d8ea9cb4360",
            "20890b97820944739b33a95966883c2d",
            "061c3883401444028dc4a8ee029900dd",
            "b3e84f6dd86144e88efa99e2396589ad",
            "6280e910a1ef4c3abd1b119b638b3d06",
            "4994e65e6d8741b09576d22a613cc4fb",
            "917a714208844be5beaf2414e910ba66",
            "77a76300204c4cd0818121698105d0cd",
            "9fe5966f9db148899d83f24dc8b9b349",
            "c4a98445769146a49a3f82caa167fd0f",
            "e614acb008bd4ec2bd77859c0ba05800"
          ]
        },
        "id": "r_hUczKjD4FM",
        "outputId": "51d73d1f-737c-4fd6-9363-e70956e5ba37"
      },
      "execution_count": null,
      "outputs": [
        {
          "output_type": "display_data",
          "data": {
            "text/plain": [
              "Megafon dataset:   0%|          | 0.00/276M [00:00<?, ?iB/s]"
            ],
            "application/vnd.jupyter.widget-view+json": {
              "version_major": 2,
              "version_minor": 0,
              "model_id": "0999b87d8f2344f58e6e6d8ea9cb4360"
            }
          },
          "metadata": {}
        }
      ]
    },
    {
      "cell_type": "code",
      "source": [
        "data.shape"
      ],
      "metadata": {
        "colab": {
          "base_uri": "https://localhost:8080/"
        },
        "id": "iYrUO3FwEKU8",
        "outputId": "873d9242-d461-44f2-96e8-218ae022ddef"
      },
      "execution_count": null,
      "outputs": [
        {
          "output_type": "execute_result",
          "data": {
            "text/plain": [
              "(600000, 50)"
            ]
          },
          "metadata": {},
          "execution_count": 4
        }
      ]
    },
    {
      "cell_type": "code",
      "source": [
        "data.head()"
      ],
      "metadata": {
        "colab": {
          "base_uri": "https://localhost:8080/",
          "height": 299
        },
        "id": "ccKlelRLEw4e",
        "outputId": "b248bedb-75b8-4e9d-a562-da417778b7e9"
      },
      "execution_count": null,
      "outputs": [
        {
          "output_type": "execute_result",
          "data": {
            "text/plain": [
              "         X_1       X_2        X_3        X_4        X_5         X_6  \\\n",
              "0  39.396577 -0.186548  19.524505  21.250208  55.291264  182.966712   \n",
              "1  38.987694  0.819522 -42.064512 -48.270949 -33.171257  179.459341   \n",
              "2 -16.693093  1.844558  -8.615192 -18.818740 -22.271188 -116.290369   \n",
              "3 -72.040154 -0.226921  39.802607  16.441262  -1.112509   68.128008   \n",
              "4  18.296973  0.996437  24.465307 -34.151971  24.623458 -155.455558   \n",
              "\n",
              "         X_7         X_8         X_9        X_10  ...        X_41        X_42  \\\n",
              "0  -5.385606  144.573379  -12.534344  -58.279429  ...   90.877638  134.363458   \n",
              "1 -87.151810 -162.693257   20.651652  181.635081  ... -183.840746   72.864779   \n",
              "2 -63.816746  -38.340763   24.968496 -136.340629  ... -203.637766    2.480242   \n",
              "3  23.073147    4.688858  -49.383641  -91.866107  ...  172.906875   83.951551   \n",
              "4 -12.159787   26.705778  105.864805  258.607252  ...  125.577535 -208.531112   \n",
              "\n",
              "         X_43      X_44        X_45      X_46        X_47        X_48  \\\n",
              "0 -213.584582 -2.092461  -93.973258 -0.155597 -312.130733   44.798182   \n",
              "1  559.783584  1.142391   80.037124 -1.216185 -111.473936 -127.737977   \n",
              "2   96.998504  1.100962  -33.275159  0.920926 -679.492242  -91.009397   \n",
              "3 -323.642557 -0.369182   93.221948 -1.962380 -442.466684  -22.298302   \n",
              "4  118.902324 -0.808578 -117.497906  1.770635  627.395611  122.019189   \n",
              "\n",
              "         X_49       X_50  \n",
              "0 -125.682413  16.231365  \n",
              "1 -117.501171  10.732234  \n",
              "2  -18.173358  14.367636  \n",
              "3  -75.916603  11.634299  \n",
              "4  194.091195 -11.883858  \n",
              "\n",
              "[5 rows x 50 columns]"
            ],
            "text/html": [
              "\n",
              "  <div id=\"df-32545692-b76b-463d-b236-1014cfc53ba9\">\n",
              "    <div class=\"colab-df-container\">\n",
              "      <div>\n",
              "<style scoped>\n",
              "    .dataframe tbody tr th:only-of-type {\n",
              "        vertical-align: middle;\n",
              "    }\n",
              "\n",
              "    .dataframe tbody tr th {\n",
              "        vertical-align: top;\n",
              "    }\n",
              "\n",
              "    .dataframe thead th {\n",
              "        text-align: right;\n",
              "    }\n",
              "</style>\n",
              "<table border=\"1\" class=\"dataframe\">\n",
              "  <thead>\n",
              "    <tr style=\"text-align: right;\">\n",
              "      <th></th>\n",
              "      <th>X_1</th>\n",
              "      <th>X_2</th>\n",
              "      <th>X_3</th>\n",
              "      <th>X_4</th>\n",
              "      <th>X_5</th>\n",
              "      <th>X_6</th>\n",
              "      <th>X_7</th>\n",
              "      <th>X_8</th>\n",
              "      <th>X_9</th>\n",
              "      <th>X_10</th>\n",
              "      <th>...</th>\n",
              "      <th>X_41</th>\n",
              "      <th>X_42</th>\n",
              "      <th>X_43</th>\n",
              "      <th>X_44</th>\n",
              "      <th>X_45</th>\n",
              "      <th>X_46</th>\n",
              "      <th>X_47</th>\n",
              "      <th>X_48</th>\n",
              "      <th>X_49</th>\n",
              "      <th>X_50</th>\n",
              "    </tr>\n",
              "  </thead>\n",
              "  <tbody>\n",
              "    <tr>\n",
              "      <th>0</th>\n",
              "      <td>39.396577</td>\n",
              "      <td>-0.186548</td>\n",
              "      <td>19.524505</td>\n",
              "      <td>21.250208</td>\n",
              "      <td>55.291264</td>\n",
              "      <td>182.966712</td>\n",
              "      <td>-5.385606</td>\n",
              "      <td>144.573379</td>\n",
              "      <td>-12.534344</td>\n",
              "      <td>-58.279429</td>\n",
              "      <td>...</td>\n",
              "      <td>90.877638</td>\n",
              "      <td>134.363458</td>\n",
              "      <td>-213.584582</td>\n",
              "      <td>-2.092461</td>\n",
              "      <td>-93.973258</td>\n",
              "      <td>-0.155597</td>\n",
              "      <td>-312.130733</td>\n",
              "      <td>44.798182</td>\n",
              "      <td>-125.682413</td>\n",
              "      <td>16.231365</td>\n",
              "    </tr>\n",
              "    <tr>\n",
              "      <th>1</th>\n",
              "      <td>38.987694</td>\n",
              "      <td>0.819522</td>\n",
              "      <td>-42.064512</td>\n",
              "      <td>-48.270949</td>\n",
              "      <td>-33.171257</td>\n",
              "      <td>179.459341</td>\n",
              "      <td>-87.151810</td>\n",
              "      <td>-162.693257</td>\n",
              "      <td>20.651652</td>\n",
              "      <td>181.635081</td>\n",
              "      <td>...</td>\n",
              "      <td>-183.840746</td>\n",
              "      <td>72.864779</td>\n",
              "      <td>559.783584</td>\n",
              "      <td>1.142391</td>\n",
              "      <td>80.037124</td>\n",
              "      <td>-1.216185</td>\n",
              "      <td>-111.473936</td>\n",
              "      <td>-127.737977</td>\n",
              "      <td>-117.501171</td>\n",
              "      <td>10.732234</td>\n",
              "    </tr>\n",
              "    <tr>\n",
              "      <th>2</th>\n",
              "      <td>-16.693093</td>\n",
              "      <td>1.844558</td>\n",
              "      <td>-8.615192</td>\n",
              "      <td>-18.818740</td>\n",
              "      <td>-22.271188</td>\n",
              "      <td>-116.290369</td>\n",
              "      <td>-63.816746</td>\n",
              "      <td>-38.340763</td>\n",
              "      <td>24.968496</td>\n",
              "      <td>-136.340629</td>\n",
              "      <td>...</td>\n",
              "      <td>-203.637766</td>\n",
              "      <td>2.480242</td>\n",
              "      <td>96.998504</td>\n",
              "      <td>1.100962</td>\n",
              "      <td>-33.275159</td>\n",
              "      <td>0.920926</td>\n",
              "      <td>-679.492242</td>\n",
              "      <td>-91.009397</td>\n",
              "      <td>-18.173358</td>\n",
              "      <td>14.367636</td>\n",
              "    </tr>\n",
              "    <tr>\n",
              "      <th>3</th>\n",
              "      <td>-72.040154</td>\n",
              "      <td>-0.226921</td>\n",
              "      <td>39.802607</td>\n",
              "      <td>16.441262</td>\n",
              "      <td>-1.112509</td>\n",
              "      <td>68.128008</td>\n",
              "      <td>23.073147</td>\n",
              "      <td>4.688858</td>\n",
              "      <td>-49.383641</td>\n",
              "      <td>-91.866107</td>\n",
              "      <td>...</td>\n",
              "      <td>172.906875</td>\n",
              "      <td>83.951551</td>\n",
              "      <td>-323.642557</td>\n",
              "      <td>-0.369182</td>\n",
              "      <td>93.221948</td>\n",
              "      <td>-1.962380</td>\n",
              "      <td>-442.466684</td>\n",
              "      <td>-22.298302</td>\n",
              "      <td>-75.916603</td>\n",
              "      <td>11.634299</td>\n",
              "    </tr>\n",
              "    <tr>\n",
              "      <th>4</th>\n",
              "      <td>18.296973</td>\n",
              "      <td>0.996437</td>\n",
              "      <td>24.465307</td>\n",
              "      <td>-34.151971</td>\n",
              "      <td>24.623458</td>\n",
              "      <td>-155.455558</td>\n",
              "      <td>-12.159787</td>\n",
              "      <td>26.705778</td>\n",
              "      <td>105.864805</td>\n",
              "      <td>258.607252</td>\n",
              "      <td>...</td>\n",
              "      <td>125.577535</td>\n",
              "      <td>-208.531112</td>\n",
              "      <td>118.902324</td>\n",
              "      <td>-0.808578</td>\n",
              "      <td>-117.497906</td>\n",
              "      <td>1.770635</td>\n",
              "      <td>627.395611</td>\n",
              "      <td>122.019189</td>\n",
              "      <td>194.091195</td>\n",
              "      <td>-11.883858</td>\n",
              "    </tr>\n",
              "  </tbody>\n",
              "</table>\n",
              "<p>5 rows × 50 columns</p>\n",
              "</div>\n",
              "      <button class=\"colab-df-convert\" onclick=\"convertToInteractive('df-32545692-b76b-463d-b236-1014cfc53ba9')\"\n",
              "              title=\"Convert this dataframe to an interactive table.\"\n",
              "              style=\"display:none;\">\n",
              "        \n",
              "  <svg xmlns=\"http://www.w3.org/2000/svg\" height=\"24px\"viewBox=\"0 0 24 24\"\n",
              "       width=\"24px\">\n",
              "    <path d=\"M0 0h24v24H0V0z\" fill=\"none\"/>\n",
              "    <path d=\"M18.56 5.44l.94 2.06.94-2.06 2.06-.94-2.06-.94-.94-2.06-.94 2.06-2.06.94zm-11 1L8.5 8.5l.94-2.06 2.06-.94-2.06-.94L8.5 2.5l-.94 2.06-2.06.94zm10 10l.94 2.06.94-2.06 2.06-.94-2.06-.94-.94-2.06-.94 2.06-2.06.94z\"/><path d=\"M17.41 7.96l-1.37-1.37c-.4-.4-.92-.59-1.43-.59-.52 0-1.04.2-1.43.59L10.3 9.45l-7.72 7.72c-.78.78-.78 2.05 0 2.83L4 21.41c.39.39.9.59 1.41.59.51 0 1.02-.2 1.41-.59l7.78-7.78 2.81-2.81c.8-.78.8-2.07 0-2.86zM5.41 20L4 18.59l7.72-7.72 1.47 1.35L5.41 20z\"/>\n",
              "  </svg>\n",
              "      </button>\n",
              "      \n",
              "  <style>\n",
              "    .colab-df-container {\n",
              "      display:flex;\n",
              "      flex-wrap:wrap;\n",
              "      gap: 12px;\n",
              "    }\n",
              "\n",
              "    .colab-df-convert {\n",
              "      background-color: #E8F0FE;\n",
              "      border: none;\n",
              "      border-radius: 50%;\n",
              "      cursor: pointer;\n",
              "      display: none;\n",
              "      fill: #1967D2;\n",
              "      height: 32px;\n",
              "      padding: 0 0 0 0;\n",
              "      width: 32px;\n",
              "    }\n",
              "\n",
              "    .colab-df-convert:hover {\n",
              "      background-color: #E2EBFA;\n",
              "      box-shadow: 0px 1px 2px rgba(60, 64, 67, 0.3), 0px 1px 3px 1px rgba(60, 64, 67, 0.15);\n",
              "      fill: #174EA6;\n",
              "    }\n",
              "\n",
              "    [theme=dark] .colab-df-convert {\n",
              "      background-color: #3B4455;\n",
              "      fill: #D2E3FC;\n",
              "    }\n",
              "\n",
              "    [theme=dark] .colab-df-convert:hover {\n",
              "      background-color: #434B5C;\n",
              "      box-shadow: 0px 1px 3px 1px rgba(0, 0, 0, 0.15);\n",
              "      filter: drop-shadow(0px 1px 2px rgba(0, 0, 0, 0.3));\n",
              "      fill: #FFFFFF;\n",
              "    }\n",
              "  </style>\n",
              "\n",
              "      <script>\n",
              "        const buttonEl =\n",
              "          document.querySelector('#df-32545692-b76b-463d-b236-1014cfc53ba9 button.colab-df-convert');\n",
              "        buttonEl.style.display =\n",
              "          google.colab.kernel.accessAllowed ? 'block' : 'none';\n",
              "\n",
              "        async function convertToInteractive(key) {\n",
              "          const element = document.querySelector('#df-32545692-b76b-463d-b236-1014cfc53ba9');\n",
              "          const dataTable =\n",
              "            await google.colab.kernel.invokeFunction('convertToInteractive',\n",
              "                                                     [key], {});\n",
              "          if (!dataTable) return;\n",
              "\n",
              "          const docLinkHtml = 'Like what you see? Visit the ' +\n",
              "            '<a target=\"_blank\" href=https://colab.research.google.com/notebooks/data_table.ipynb>data table notebook</a>'\n",
              "            + ' to learn more about interactive tables.';\n",
              "          element.innerHTML = '';\n",
              "          dataTable['output_type'] = 'display_data';\n",
              "          await google.colab.output.renderOutput(dataTable, element);\n",
              "          const docLink = document.createElement('div');\n",
              "          docLink.innerHTML = docLinkHtml;\n",
              "          element.appendChild(docLink);\n",
              "        }\n",
              "      </script>\n",
              "    </div>\n",
              "  </div>\n",
              "  "
            ]
          },
          "metadata": {},
          "execution_count": 5
        }
      ]
    },
    {
      "cell_type": "code",
      "source": [],
      "metadata": {
        "id": "Mg0SUHTpEw7X"
      },
      "execution_count": null,
      "outputs": []
    },
    {
      "cell_type": "code",
      "source": [
        "treatment.value_counts()"
      ],
      "metadata": {
        "colab": {
          "base_uri": "https://localhost:8080/"
        },
        "id": "EvWgo5zgE-Br",
        "outputId": "2201dc5f-7d91-4944-c279-51c8a0300f47"
      },
      "execution_count": null,
      "outputs": [
        {
          "output_type": "execute_result",
          "data": {
            "text/plain": [
              "treatment    300368\n",
              "control      299632\n",
              "Name: treatment_group, dtype: int64"
            ]
          },
          "metadata": {},
          "execution_count": 7
        }
      ]
    },
    {
      "cell_type": "code",
      "source": [
        "treatment = treatment.map({'treatment': 1, 'control': 0})\n",
        "treatment.value_counts()"
      ],
      "metadata": {
        "colab": {
          "base_uri": "https://localhost:8080/"
        },
        "id": "k6ey4iGoE-Em",
        "outputId": "618ead22-ab57-4be4-f823-e8f4351dc331"
      },
      "execution_count": null,
      "outputs": [
        {
          "output_type": "execute_result",
          "data": {
            "text/plain": [
              "1    300368\n",
              "0    299632\n",
              "Name: treatment_group, dtype: int64"
            ]
          },
          "metadata": {},
          "execution_count": 9
        }
      ]
    },
    {
      "cell_type": "code",
      "source": [],
      "metadata": {
        "id": "TMCdY7h6EKWW"
      },
      "execution_count": null,
      "outputs": []
    },
    {
      "cell_type": "code",
      "source": [
        "stratify_cols = pd.concat([treatment, target], axis=1)\n",
        "\n",
        "X_train, X_val, trtmnt_train, trtmnt_val, y_train, y_val = train_test_split(\n",
        "    data,\n",
        "    treatment,\n",
        "    target,\n",
        "    stratify=stratify_cols,\n",
        "    test_size=.3,\n",
        "    random_state=random_state\n",
        ")\n",
        "\n",
        "print(f\"X_train shape: {X_train.shape}\")\n",
        "print(f\"X_val shape: {X_val.shape}\")"
      ],
      "metadata": {
        "colab": {
          "base_uri": "https://localhost:8080/"
        },
        "id": "J25jFGAcF7oN",
        "outputId": "2ebd15aa-d2aa-417a-b9c8-7409ad835508"
      },
      "execution_count": null,
      "outputs": [
        {
          "output_type": "stream",
          "name": "stdout",
          "text": [
            "X_train shape: (420000, 50)\n",
            "X_val shape: (180000, 50)\n"
          ]
        }
      ]
    },
    {
      "cell_type": "code",
      "source": [],
      "metadata": {
        "id": "PdI3iOtSF7p_"
      },
      "execution_count": null,
      "outputs": []
    },
    {
      "cell_type": "code",
      "source": [],
      "metadata": {
        "id": "qJMAA_EsF7tJ"
      },
      "execution_count": null,
      "outputs": []
    },
    {
      "cell_type": "markdown",
      "source": [
        "### Solo Model"
      ],
      "metadata": {
        "id": "L_Gclhz2HvxG"
      }
    },
    {
      "cell_type": "code",
      "source": [
        "from sklift.models import SoloModel\n",
        "\n",
        "estimator = lgb.LGBMClassifier(random_state=random_state)\n",
        "slearner = SoloModel(estimator=estimator, method=\"dummy\")\n",
        "\n",
        "slearner = slearner.fit(X_train, y_train, trtmnt_train)\n",
        "preds = slearner.predict(X_val)"
      ],
      "metadata": {
        "id": "RYUVWpOpF7us"
      },
      "execution_count": null,
      "outputs": []
    },
    {
      "cell_type": "code",
      "source": [
        "preds[:3]"
      ],
      "metadata": {
        "colab": {
          "base_uri": "https://localhost:8080/"
        },
        "id": "bPJiR6VJHu-w",
        "outputId": "63bbb553-a1b7-459c-b0ec-26632cd98983"
      },
      "execution_count": null,
      "outputs": [
        {
          "output_type": "execute_result",
          "data": {
            "text/plain": [
              "array([0.06341812, 0.01077546, 0.09784032])"
            ]
          },
          "metadata": {},
          "execution_count": 14
        }
      ]
    },
    {
      "cell_type": "code",
      "source": [],
      "metadata": {
        "id": "qkx_rBHoHvJJ"
      },
      "execution_count": null,
      "outputs": []
    },
    {
      "cell_type": "code",
      "source": [
        "estimator = lgb.LGBMClassifier(random_state=random_state)\n",
        "slearner_ti = SoloModel(estimator=estimator, method=\"treatment_interaction\") #2x features\n",
        "\n",
        "slearner_ti = slearner_ti.fit(X_train, y_train, trtmnt_train)\n",
        "preds2 = slearner_ti.predict(X_val)"
      ],
      "metadata": {
        "id": "P5f0Ap64HvLF"
      },
      "execution_count": null,
      "outputs": []
    },
    {
      "cell_type": "code",
      "source": [
        "preds2[:3]"
      ],
      "metadata": {
        "colab": {
          "base_uri": "https://localhost:8080/"
        },
        "id": "QALUDyLuHvOf",
        "outputId": "6886cbac-0a62-41ad-cad0-eeccbda9e476"
      },
      "execution_count": null,
      "outputs": [
        {
          "output_type": "execute_result",
          "data": {
            "text/plain": [
              "array([0.03888616, 0.04865184, 0.08312888])"
            ]
          },
          "metadata": {},
          "execution_count": 16
        }
      ]
    },
    {
      "cell_type": "code",
      "source": [],
      "metadata": {
        "id": "QVKRc42JHvRh"
      },
      "execution_count": null,
      "outputs": []
    },
    {
      "cell_type": "code",
      "source": [],
      "metadata": {
        "id": "JhZO9czmJg8h"
      },
      "execution_count": null,
      "outputs": []
    },
    {
      "cell_type": "markdown",
      "source": [
        "### T-learner"
      ],
      "metadata": {
        "id": "q_Ttz8AQJs1X"
      }
    },
    {
      "cell_type": "code",
      "source": [
        "from sklift.models import TwoModels\n",
        "\n",
        "estimator_treatment = lgb.LGBMClassifier(random_state=random_state)\n",
        "estimator_control = lgb.LGBMClassifier(random_state=random_state)\n",
        "\n",
        "t_learner = TwoModels(\n",
        "    estimator_trmnt=estimator_treatment,\n",
        "    estimator_ctrl=estimator_control,\n",
        "    method=\"vanilla\" # 2 независимые модели. Альтернативы: ddr_control или ddr_treatment\n",
        ")\n",
        "\n",
        "t_learner = t_learner.fit(X_train, y_train, trtmnt_train)\n",
        "preds3 = t_learner.predict(X_val)"
      ],
      "metadata": {
        "id": "EGiXmkYkJg-I"
      },
      "execution_count": null,
      "outputs": []
    },
    {
      "cell_type": "code",
      "source": [
        "preds3[:3]"
      ],
      "metadata": {
        "colab": {
          "base_uri": "https://localhost:8080/"
        },
        "id": "vw_4fdXcJhB5",
        "outputId": "ed71c26b-d84b-4e39-e25f-f1c6a7ee61bc"
      },
      "execution_count": null,
      "outputs": [
        {
          "output_type": "execute_result",
          "data": {
            "text/plain": [
              "array([0.04460189, 0.04201339, 0.03639569])"
            ]
          },
          "metadata": {},
          "execution_count": 20
        }
      ]
    },
    {
      "cell_type": "code",
      "source": [],
      "metadata": {
        "id": "RFXeAYDOLBIl"
      },
      "execution_count": null,
      "outputs": []
    },
    {
      "cell_type": "code",
      "source": [],
      "metadata": {
        "id": "kULXjtzcLBLa"
      },
      "execution_count": null,
      "outputs": []
    },
    {
      "cell_type": "markdown",
      "source": [
        "### ClassTransformation"
      ],
      "metadata": {
        "id": "VY9lial8LskG"
      }
    },
    {
      "cell_type": "code",
      "source": [
        "from sklift.models import ClassTransformation\n",
        "\n",
        "estimator_ct = lgb.LGBMClassifier(random_state=random_state)\n",
        "ct_learner = ClassTransformation(estimator_ct)\n",
        "ct_learner = ct_learner.fit(X_train, y_train, trtmnt_train)\n",
        "preds4 = ct_learner.predict(X_val)"
      ],
      "metadata": {
        "id": "4oKHuizRF7yb"
      },
      "execution_count": null,
      "outputs": []
    },
    {
      "cell_type": "code",
      "source": [
        "preds4[:3]"
      ],
      "metadata": {
        "colab": {
          "base_uri": "https://localhost:8080/"
        },
        "id": "9mRh0yBYLw8F",
        "outputId": "e289664d-8754-48a7-9d4f-0938ce17fbf1"
      },
      "execution_count": null,
      "outputs": [
        {
          "output_type": "execute_result",
          "data": {
            "text/plain": [
              "array([-0.00650106, -0.0172078 ,  0.12447006])"
            ]
          },
          "metadata": {},
          "execution_count": 22
        }
      ]
    },
    {
      "cell_type": "code",
      "source": [],
      "metadata": {
        "id": "CFaVwmW2Lw-P"
      },
      "execution_count": null,
      "outputs": []
    },
    {
      "cell_type": "code",
      "source": [],
      "metadata": {
        "id": "uTWmphc4LxBI"
      },
      "execution_count": null,
      "outputs": []
    },
    {
      "cell_type": "markdown",
      "source": [
        "### МЕТРИКИ"
      ],
      "metadata": {
        "id": "idAgOKZtMwJS"
      }
    },
    {
      "cell_type": "code",
      "source": [
        "from sklift.metrics import uplift_at_k, uplift_by_percentile, average_squared_deviation, weighted_average_uplift, uplift_auc_score, qini_auc_score\n",
        "\n",
        "all_preds = [preds, preds2, preds3, preds4]\n",
        "all_learners = [slearner, slearner_ti, t_learner, ct_learner]"
      ],
      "metadata": {
        "id": "ETx0bDQHnSt1"
      },
      "execution_count": null,
      "outputs": []
    },
    {
      "cell_type": "code",
      "source": [
        "# uplift_at_k"
      ],
      "metadata": {
        "id": "vdUADcWJLxD_"
      },
      "execution_count": null,
      "outputs": []
    },
    {
      "cell_type": "code",
      "source": [
        "for p in all_preds:\n",
        "    uplift_k = uplift_at_k(\n",
        "        y_true=y_val,\n",
        "        uplift=p,\n",
        "        treatment=trtmnt_val,\n",
        "        strategy=\"overall\",\n",
        "        k=.3)\n",
        "    print(uplift_k)"
      ],
      "metadata": {
        "colab": {
          "base_uri": "https://localhost:8080/"
        },
        "id": "YThg64TGMzqK",
        "outputId": "834df8bc-9602-4d95-d83d-1b6535b511dc"
      },
      "execution_count": null,
      "outputs": [
        {
          "output_type": "stream",
          "name": "stdout",
          "text": [
            "0.21252033889247546\n",
            "0.2166602618155922\n",
            "0.2157994292441908\n",
            "0.2077604133256158\n"
          ]
        }
      ]
    },
    {
      "cell_type": "code",
      "source": [],
      "metadata": {
        "id": "jGzUn6nTMzsK"
      },
      "execution_count": null,
      "outputs": []
    },
    {
      "cell_type": "code",
      "source": [
        "# uplift_by_percentile"
      ],
      "metadata": {
        "id": "_pjDl44eMzvK"
      },
      "execution_count": null,
      "outputs": []
    },
    {
      "cell_type": "code",
      "source": [
        "for p in all_preds:\n",
        "    uplift_p = uplift_by_percentile(\n",
        "        y_true=y_val,\n",
        "        uplift=p,\n",
        "        treatment=trtmnt_val,\n",
        "        strategy=\"overall\",\n",
        "        bins=10\n",
        "        )\n",
        "    print(uplift_p)"
      ],
      "metadata": {
        "colab": {
          "base_uri": "https://localhost:8080/"
        },
        "id": "VESPUfuTMzxI",
        "outputId": "99de826e-b3c8-4896-bf5a-d27bfc408b86"
      },
      "execution_count": null,
      "outputs": [
        {
          "output_type": "stream",
          "name": "stdout",
          "text": [
            "            n_treatment  n_control  response_rate_treatment  \\\n",
            "percentile                                                    \n",
            "0-10               8948       9052                 0.578453   \n",
            "10-20              9065       8935                 0.260121   \n",
            "20-30              9070       8930                 0.223264   \n",
            "30-40              8895       9105                 0.209444   \n",
            "40-50              8966       9034                 0.208566   \n",
            "50-60              9077       8923                 0.195659   \n",
            "60-70              9098       8902                 0.180149   \n",
            "70-80              8960       9040                 0.127902   \n",
            "80-90              8928       9072                 0.091062   \n",
            "90-100             9103       8897                 0.215533   \n",
            "\n",
            "            response_rate_control    uplift  \n",
            "percentile                                   \n",
            "0-10                     0.152232  0.426222  \n",
            "10-20                    0.141690  0.118431  \n",
            "20-30                    0.127212  0.096052  \n",
            "30-40                    0.127842  0.081602  \n",
            "40-50                    0.138255  0.070310  \n",
            "50-60                    0.134596  0.061063  \n",
            "60-70                    0.172321  0.007829  \n",
            "70-80                    0.184735 -0.056833  \n",
            "80-90                    0.168651 -0.077589  \n",
            "90-100                   0.449365 -0.233832  \n",
            "            n_treatment  n_control  response_rate_treatment  \\\n",
            "percentile                                                    \n",
            "0-10               8989       9011                 0.596841   \n",
            "10-20              9148       8852                 0.251749   \n",
            "20-30              8841       9159                 0.214116   \n",
            "30-40              8988       9012                 0.215510   \n",
            "40-50              9062       8938                 0.209225   \n",
            "50-60              9156       8844                 0.197903   \n",
            "60-70              8990       9010                 0.187987   \n",
            "70-80              8896       9104                 0.109150   \n",
            "80-90              8940       9060                 0.086465   \n",
            "90-100             9100       8900                 0.218462   \n",
            "\n",
            "            response_rate_control    uplift  \n",
            "percentile                                   \n",
            "0-10                     0.144712  0.452129  \n",
            "10-20                    0.141550  0.110199  \n",
            "20-30                    0.127197  0.086919  \n",
            "30-40                    0.126609  0.088901  \n",
            "40-50                    0.137727  0.071499  \n",
            "50-60                    0.148575  0.049328  \n",
            "60-70                    0.165150  0.022837  \n",
            "70-80                    0.177285 -0.068135  \n",
            "80-90                    0.167550 -0.081084  \n",
            "90-100                   0.460449 -0.241988  \n",
            "            n_treatment  n_control  response_rate_treatment  \\\n",
            "percentile                                                    \n",
            "0-10               8985       9015                 0.586311   \n",
            "10-20              8996       9004                 0.237328   \n",
            "20-30              9037       8963                 0.202280   \n",
            "30-40              9015       8985                 0.201553   \n",
            "40-50              9078       8922                 0.203900   \n",
            "50-60              9005       8995                 0.190894   \n",
            "60-70              8993       9007                 0.180140   \n",
            "70-80              8929       9071                 0.097883   \n",
            "80-90              8952       9048                 0.086796   \n",
            "90-100             9120       8880                 0.300329   \n",
            "\n",
            "            response_rate_control    uplift  \n",
            "percentile                                   \n",
            "0-10                     0.136106  0.450204  \n",
            "10-20                    0.122057  0.115271  \n",
            "20-30                    0.119380  0.082900  \n",
            "30-40                    0.118308  0.083245  \n",
            "40-50                    0.125084  0.078815  \n",
            "50-60                    0.135520  0.055374  \n",
            "60-70                    0.167314  0.012826  \n",
            "70-80                    0.164480 -0.066597  \n",
            "80-90                    0.165672 -0.078876  \n",
            "90-100                   0.544369 -0.244040  \n",
            "            n_treatment  n_control  response_rate_treatment  \\\n",
            "percentile                                                    \n",
            "0-10               9051       8949                 0.547122   \n",
            "10-20              8936       9064                 0.244740   \n",
            "20-30              8995       9005                 0.228794   \n",
            "30-40              8894       9106                 0.222959   \n",
            "40-50              9081       8919                 0.216936   \n",
            "50-60              9072       8928                 0.224427   \n",
            "60-70              9055       8945                 0.213584   \n",
            "70-80              9056       8944                 0.164642   \n",
            "80-90              8894       9106                 0.096919   \n",
            "90-100             9076       8924                 0.127259   \n",
            "\n",
            "            response_rate_control    uplift  \n",
            "percentile                                   \n",
            "0-10                     0.144374  0.402748  \n",
            "10-20                    0.125883  0.118858  \n",
            "20-30                    0.129150  0.099643  \n",
            "30-40                    0.133978  0.088982  \n",
            "40-50                    0.146317  0.070620  \n",
            "50-60                    0.159722  0.064705  \n",
            "60-70                    0.198658  0.014925  \n",
            "70-80                    0.227527 -0.062885  \n",
            "80-90                    0.201296 -0.104377  \n",
            "90-100                   0.328776 -0.201518  \n"
          ]
        }
      ]
    },
    {
      "cell_type": "code",
      "source": [],
      "metadata": {
        "id": "UEYKAuHYMz0j"
      },
      "execution_count": null,
      "outputs": []
    },
    {
      "cell_type": "code",
      "source": [
        "# average_squared_deviation"
      ],
      "metadata": {
        "id": "F55FtjoFMu6I"
      },
      "execution_count": null,
      "outputs": []
    },
    {
      "cell_type": "code",
      "source": [
        "for l, pred in zip(all_learners, all_preds):   \n",
        "    print(average_squared_deviation(\n",
        "        y_train,\n",
        "        l.predict(X_train),\n",
        "        trtmnt_train,\n",
        "        y_val,\n",
        "        pred,\n",
        "        trtmnt_val\n",
        "))"
      ],
      "metadata": {
        "colab": {
          "base_uri": "https://localhost:8080/"
        },
        "id": "GTJB7ujZEKaB",
        "outputId": "7f62e2c3-045a-45b8-872e-9c111e941e65"
      },
      "execution_count": null,
      "outputs": [
        {
          "output_type": "stream",
          "name": "stdout",
          "text": [
            "7.30058470551649e-05\n",
            "0.0001341121931916846\n",
            "0.0012216105207456466\n",
            "0.001923269328779707\n"
          ]
        }
      ]
    },
    {
      "cell_type": "code",
      "source": [],
      "metadata": {
        "id": "N5fLwRa2q1-z"
      },
      "execution_count": null,
      "outputs": []
    },
    {
      "cell_type": "code",
      "source": [],
      "metadata": {
        "id": "c_HjBjN2q2A1"
      },
      "execution_count": null,
      "outputs": []
    },
    {
      "cell_type": "code",
      "source": [
        "# weighted_average_uplift"
      ],
      "metadata": {
        "id": "2nBqlN7oq2Dx"
      },
      "execution_count": null,
      "outputs": []
    },
    {
      "cell_type": "code",
      "source": [
        "for p in all_preds:\n",
        "    wa_uplift = weighted_average_uplift(\n",
        "        y_true=y_val,\n",
        "        uplift=p,\n",
        "        treatment=trtmnt_val,\n",
        "        strategy=\"overall\"\n",
        "        )\n",
        "    print(wa_uplift)"
      ],
      "metadata": {
        "colab": {
          "base_uri": "https://localhost:8080/"
        },
        "id": "z2wHbX1Wq2F1",
        "outputId": "afef60a4-f6ee-4e79-88f9-d64f4dde07de"
      },
      "execution_count": null,
      "outputs": [
        {
          "output_type": "stream",
          "name": "stdout",
          "text": [
            "0.04893844793744406\n",
            "0.048957196080265386\n",
            "0.04866010925727283\n",
            "0.04918148446888456\n"
          ]
        }
      ]
    },
    {
      "cell_type": "code",
      "source": [],
      "metadata": {
        "id": "350VoNShuO5o"
      },
      "execution_count": null,
      "outputs": []
    },
    {
      "cell_type": "code",
      "source": [],
      "metadata": {
        "id": "m1SgVzYbuO7o"
      },
      "execution_count": null,
      "outputs": []
    },
    {
      "cell_type": "code",
      "source": [
        "# uplift_auc_score"
      ],
      "metadata": {
        "id": "77cDTpdzuO-p"
      },
      "execution_count": null,
      "outputs": []
    },
    {
      "cell_type": "code",
      "source": [
        "for p in all_preds:\n",
        "    auuc = uplift_auc_score(\n",
        "        y_true=y_val,\n",
        "        uplift=p,\n",
        "        treatment=trtmnt_val\n",
        "        )\n",
        "    print(auuc)"
      ],
      "metadata": {
        "colab": {
          "base_uri": "https://localhost:8080/"
        },
        "id": "Ld7m8rSSujti",
        "outputId": "2ae7d148-da37-4e1a-a645-034938d0fc3e"
      },
      "execution_count": null,
      "outputs": [
        {
          "output_type": "stream",
          "name": "stdout",
          "text": [
            "0.16034963885181358\n",
            "0.16532009908557585\n",
            "0.1650810743542226\n",
            "0.15509672012544673\n"
          ]
        }
      ]
    },
    {
      "cell_type": "code",
      "source": [],
      "metadata": {
        "id": "vHJwnKvrujvM"
      },
      "execution_count": null,
      "outputs": []
    },
    {
      "cell_type": "code",
      "source": [],
      "metadata": {
        "id": "sy53Np5lujyD"
      },
      "execution_count": null,
      "outputs": []
    },
    {
      "cell_type": "code",
      "source": [
        "# qini_auc_score"
      ],
      "metadata": {
        "id": "KIgjXnvWuj0I"
      },
      "execution_count": null,
      "outputs": []
    },
    {
      "cell_type": "code",
      "source": [
        "for p in all_preds:\n",
        "    auqc = qini_auc_score(\n",
        "        y_true=y_val,\n",
        "        uplift=p,\n",
        "        treatment=trtmnt_val\n",
        "        )\n",
        "    print(auqc)"
      ],
      "metadata": {
        "colab": {
          "base_uri": "https://localhost:8080/"
        },
        "id": "vKRffKNruj3I",
        "outputId": "9382535b-7e1a-43ea-a733-930b5ed528c5"
      },
      "execution_count": null,
      "outputs": [
        {
          "output_type": "stream",
          "name": "stdout",
          "text": [
            "0.23260639980450665\n",
            "0.24007343199519318\n",
            "0.23952807980525728\n",
            "0.2248584984050581\n"
          ]
        }
      ]
    },
    {
      "cell_type": "code",
      "source": [],
      "metadata": {
        "id": "u7Hn8Dq1uj46"
      },
      "execution_count": null,
      "outputs": []
    },
    {
      "cell_type": "code",
      "source": [],
      "metadata": {
        "id": "yy-l66w9uj8c"
      },
      "execution_count": null,
      "outputs": []
    },
    {
      "cell_type": "code",
      "source": [],
      "metadata": {
        "id": "PL2AhB622UUA"
      },
      "execution_count": null,
      "outputs": []
    }
  ]
}